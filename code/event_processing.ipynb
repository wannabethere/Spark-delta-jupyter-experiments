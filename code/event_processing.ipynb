{
 "cells": [
  {
   "cell_type": "markdown",
   "id": "3460a611",
   "metadata": {},
   "source": [
    "## 1. Introduction\n",
    "\n",
    "This notebook shows how to connect Jupyter notebooks to a Spark cluster to process data using Spark Python API."
   ]
  },
  {
   "cell_type": "markdown",
   "id": "bbbfac7d",
   "metadata": {},
   "source": [
    "!pip -q install findspark### 2.1. Connection\n",
    "\n",
    "To connect to the Spark cluster, create a SparkSession object with the following params:\n",
    "\n",
    "+ **appName:** application name displayed at the [Spark Master Web UI](http://localhost:8080/);\n",
    "+ **master:** Spark Master URL, same used by Spark Workers;\n",
    "+ **spark.executor.memory:** must be less than or equals to docker compose SPARK_WORKER_MEMORY config."
   ]
  },
  {
   "cell_type": "code",
   "execution_count": 4,
   "id": "158bf52a",
   "metadata": {},
   "outputs": [],
   "source": [
    "import os\n",
    "os.environ['PYSPARK_SUBMIT_ARGS'] = '--packages io.delta:delta-core_2.12:0.8.0 pyspark-shell'"
   ]
  },
  {
   "cell_type": "code",
   "execution_count": 5,
   "id": "7c4cc96a",
   "metadata": {},
   "outputs": [],
   "source": [
    "import json, re\n",
    "\n",
    "from pyspark.sql.functions import *\n",
    "from pyspark.sql.types import *\n",
    "from pyspark.sql import SparkSession\n",
    "\n",
    "jsonSchema = \"\"\"{'event_id': '33ea832f-869a-4b0d-ad72-3c1966695e88', 'event_timestamp': '2021-06-03 23:57:34.942647', 'event_type': 'pageview', 'page_url': 'http://www.dummywebsite.com/product_b', 'page_url_path': '/product_b', 'referer_url': 'www.bing.com', 'referer_url_scheme': 'http', 'referer_url_port': '80', 'referer_medium': 'search', 'utm_medium': 'organic', 'utm_source': 'bing', 'utm_content': 'ad_2', 'utm_campaign': 'campaign_1', 'click_id': '35a4c0b7-8065-4590-b3d6-eaec7554367b', 'geo_latitude': '44.92801', 'geo_longitude': '4.8951', 'geo_country': 'FR', 'geo_timezone': 'Europe/Paris', 'geo_region_name': 'Valence', 'ip_address': '75.212.102.39', 'browser_name': 'Safari', 'browser_user_agent': 'Mozilla/5.0 (Windows; U; Windows NT 5.2) AppleWebKit/534.22.5 (KHTML, like Gecko) Version/4.0 Safari/534.22.5', 'browser_language': 'lzh_TW', 'os': 'iPad; CPU iPad OS 6_1_6 like Mac OS X', 'os_name': 'iOS', 'os_timezone': 'Europe/Paris', 'device_type': 'Mobile', 'device_is_mobile': \"True\", 'user_custom_id': 'riveratyler@yahoo.com', 'user_domain_id': '64b35f3d-bdc6-4551-8d8f-bdff5ef202fd'}\"\"\"\n",
    "\n",
    "\n",
    "\n",
    "\n"
   ]
  },
  {
   "cell_type": "code",
   "execution_count": 11,
   "id": "fe35fb26",
   "metadata": {},
   "outputs": [
    {
     "name": "stdout",
     "output_type": "stream",
     "text": [
      "Data:\n",
      "\n",
      "+----+--------------------+-----+---------+------+--------------------+-------------+\n",
      "| key|               value|topic|partition|offset|           timestamp|timestampType|\n",
      "+----+--------------------+-----+---------+------+--------------------+-------------+\n",
      "|null|[7B 22 65 76 65 6...| test|        0|     0|1969-12-31 23:59:...|            0|\n",
      "|null|[7B 22 65 76 65 6...| test|        0|     1|1969-12-31 23:59:...|            0|\n",
      "|null|[7B 22 65 76 65 6...| test|        0|     2|1969-12-31 23:59:...|            0|\n",
      "|null|[7B 22 65 76 65 6...| test|        0|     3|1969-12-31 23:59:...|            0|\n",
      "|null|[7B 22 65 76 65 6...| test|        0|     4|1969-12-31 23:59:...|            0|\n",
      "|null|[7B 22 65 76 65 6...| test|        0|     5|1969-12-31 23:59:...|            0|\n",
      "|null|[7B 22 65 76 65 6...| test|        0|     6|1969-12-31 23:59:...|            0|\n",
      "|null|[7B 22 65 76 65 6...| test|        0|     7|1969-12-31 23:59:...|            0|\n",
      "|null|[7B 22 65 76 65 6...| test|        0|     8|1969-12-31 23:59:...|            0|\n",
      "|null|[7B 22 65 76 65 6...| test|        0|     9|1969-12-31 23:59:...|            0|\n",
      "|null|[7B 22 65 76 65 6...| test|        0|    10|1969-12-31 23:59:...|            0|\n",
      "|null|[7B 22 65 76 65 6...| test|        0|    11|1969-12-31 23:59:...|            0|\n",
      "|null|[7B 22 65 76 65 6...| test|        0|    12|1969-12-31 23:59:...|            0|\n",
      "|null|[7B 22 65 76 65 6...| test|        0|    13|1969-12-31 23:59:...|            0|\n",
      "|null|[7B 22 65 76 65 6...| test|        0|    14|1969-12-31 23:59:...|            0|\n",
      "|null|[7B 22 65 76 65 6...| test|        0|    15|1969-12-31 23:59:...|            0|\n",
      "|null|[7B 22 65 76 65 6...| test|        0|    16|1969-12-31 23:59:...|            0|\n",
      "|null|[7B 22 65 76 65 6...| test|        0|    17|1969-12-31 23:59:...|            0|\n",
      "|null|[7B 22 65 76 65 6...| test|        0|    18|1969-12-31 23:59:...|            0|\n",
      "|null|[7B 22 65 76 65 6...| test|        0|    19|1969-12-31 23:59:...|            0|\n",
      "+----+--------------------+-----+---------+------+--------------------+-------------+\n",
      "only showing top 20 rows\n",
      "\n",
      "Schema:\n",
      "\n",
      "18913\n"
     ]
    }
   ],
   "source": [
    "# Enable SQL commands and Update/Delete/Merge for the current spark session.\n",
    "# we need to set the following configs\n",
    "#from delta.tables import DeltaTable\n",
    "\n",
    "spark = SparkSession.builder \\\n",
    "    .appName(\"quickstart\") \\\n",
    "    .master(\"local[*]\") \\\n",
    "    .config(\"spark.sql.extensions\", \"io.delta.sql.DeltaSparkSessionExtension\") \\\n",
    "    .config('spark.jars.packages', 'org.apache.spark:spark-sql-kafka-0-10_2.12:3.0.2,org.apache.spark:spark-streaming-kafka-0-10_2.12:3.0.2') \\\n",
    "    .config(\"spark.sql.catalog.spark_catalog\", \"org.apache.spark.sql.delta.catalog.DeltaCatalog\") \\\n",
    "    .getOrCreate()\n",
    "\n",
    "\n",
    "df = spark.read.format(\"delta\").load(\"/opt/workspace/raw/clickstream/events\")\n",
    "print(\"Data:\\n\")\n",
    "df.show()\n",
    "print(\"Schema:\\n\")\n",
    "print(df.count())\n",
    "      \n",
    "\n",
    "\n",
    "\n",
    "\n",
    "\n"
   ]
  },
  {
   "cell_type": "code",
   "execution_count": null,
   "id": "be7ada16",
   "metadata": {},
   "outputs": [],
   "source": []
  },
  {
   "cell_type": "code",
   "execution_count": null,
   "id": "e7aae908",
   "metadata": {},
   "outputs": [],
   "source": []
  }
 ],
 "metadata": {
  "kernelspec": {
   "display_name": "Python 3",
   "language": "python",
   "name": "python3"
  },
  "language_info": {
   "codemirror_mode": {
    "name": "ipython",
    "version": 3
   },
   "file_extension": ".py",
   "mimetype": "text/x-python",
   "name": "python",
   "nbconvert_exporter": "python",
   "pygments_lexer": "ipython3",
   "version": "3.7.3"
  }
 },
 "nbformat": 4,
 "nbformat_minor": 5
}
